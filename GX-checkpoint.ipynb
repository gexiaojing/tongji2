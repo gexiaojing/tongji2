{
 "cells": [
  {
   "cell_type": "code",
   "execution_count": 2,
   "metadata": {},
   "outputs": [
    {
     "data": {
      "text/plain": [
       "<_sre.SRE_Match object; span=(0, 15), match='Hello 123 4567 '>"
      ]
     },
     "execution_count": 2,
     "metadata": {},
     "output_type": "execute_result"
    }
   ],
   "source": [
    "import re\n",
    "content='Hello 123 4567 World_This is a Regex Demo'\n",
    "re.match('^Hello\\s\\d\\d\\d\\s\\d{4}\\s\\.*',content)"
   ]
  },
  {
   "cell_type": "code",
   "execution_count": 5,
   "metadata": {},
   "outputs": [
    {
     "data": {
      "text/plain": [
       "'Hello 123 4567 World_This is a Regex Demo'"
      ]
     },
     "execution_count": 5,
     "metadata": {},
     "output_type": "execute_result"
    }
   ],
   "source": [
    "import re\n",
    "content='Hello 123 4567 World_This is a Regex Demo'\n",
    "test=re.match('^Hello\\s\\d{3}\\s\\d{4}\\s\\w{10}.*',content)\n",
    "test.group()"
   ]
  },
  {
   "cell_type": "code",
   "execution_count": 6,
   "metadata": {},
   "outputs": [
    {
     "data": {
      "text/plain": [
       "<_sre.SRE_Match object; span=(0, 41), match='Hello 123 4567 World_This is a Regex Demo'>"
      ]
     },
     "execution_count": 6,
     "metadata": {},
     "output_type": "execute_result"
    }
   ],
   "source": [
    "import re\n",
    "content='Hello 123 4567 World_This is a Regex Demo'\n",
    "result=re.match('^H.*',content)\n",
    "result"
   ]
  },
  {
   "cell_type": "code",
   "execution_count": 8,
   "metadata": {},
   "outputs": [
    {
     "data": {
      "text/plain": [
       "<_sre.SRE_Match object; span=(0, 19), match='Joker is a good man'>"
      ]
     },
     "execution_count": 8,
     "metadata": {},
     "output_type": "execute_result"
    }
   ],
   "source": [
    "import re\n",
    "content='Joker is a good man'\n",
    "result=re.match('^Joker\\s\\w{2}\\s\\w{1}.*',content)\n",
    "result"
   ]
  },
  {
   "cell_type": "code",
   "execution_count": 12,
   "metadata": {},
   "outputs": [
    {
     "name": "stdout",
     "output_type": "stream",
     "text": [
      "4567\n",
      "Regex\n",
      "Hello 123 4567 World_This is a Regex\n"
     ]
    }
   ],
   "source": [
    "import re\n",
    "content='Hello 123 4567 World_This is a Regex Demo'\n",
    "result=re.match('^Hello.*\\s(\\d{4})\\s.*a\\s(\\w+)',content)\n",
    "print(result.group(1))\n",
    "print(result.group(2))\n",
    "print(result.group())"
   ]
  },
  {
   "cell_type": "code",
   "execution_count": 20,
   "metadata": {},
   "outputs": [
    {
     "data": {
      "text/plain": [
       "'1234567'"
      ]
     },
     "execution_count": 20,
     "metadata": {},
     "output_type": "execute_result"
    }
   ],
   "source": [
    "import re\n",
    "content='Hello 1234567 World_This is a Regex Demo'\n",
    "result=re.match('^Hello.*?(\\d+)',content).group(1)\n",
    "result"
   ]
  },
  {
   "cell_type": "code",
   "execution_count": 24,
   "metadata": {},
   "outputs": [
    {
     "data": {
      "text/plain": [
       "'7'"
      ]
     },
     "execution_count": 24,
     "metadata": {},
     "output_type": "execute_result"
    }
   ],
   "source": [
    "import re\n",
    "content='Hello 123 4567 World_This is a Regex Demo'\n",
    "result=re.match('^Hello.*(\\d+)',content).group(1)\n",
    "result"
   ]
  },
  {
   "cell_type": "code",
   "execution_count": 26,
   "metadata": {},
   "outputs": [
    {
     "data": {
      "text/plain": [
       "'345'"
      ]
     },
     "execution_count": 26,
     "metadata": {},
     "output_type": "execute_result"
    }
   ],
   "source": [
    "import re\n",
    "content='Hello 1234567 World_This is a Regex Demo'\n",
    "result=re.match('^H.*?2(\\d+)6',content)\n",
    "result.group(1)"
   ]
  },
  {
   "cell_type": "code",
   "execution_count": 27,
   "metadata": {},
   "outputs": [
    {
     "name": "stdout",
     "output_type": "stream",
     "text": [
      "<_sre.SRE_Match object; span=(0, 40), match='Hello 1234567 World_This is a Regex Demo'>\n"
     ]
    }
   ],
   "source": [
    "import re\n",
    "content='''Hello 1234567 World_This is a Regex Demo'''\n",
    "res=re.match('^H.*',content,re.S)\n",
    "print(res)"
   ]
  },
  {
   "cell_type": "code",
   "execution_count": 28,
   "metadata": {},
   "outputs": [
    {
     "data": {
      "text/plain": [
       "<_sre.SRE_Match object; span=(0, 14), match='price is $5.00'>"
      ]
     },
     "execution_count": 28,
     "metadata": {},
     "output_type": "execute_result"
    }
   ],
   "source": [
    "import re\n",
    "content='price is $5.00'\n",
    "res=re.match('^p.*',content)\n",
    "res"
   ]
  },
  {
   "cell_type": "code",
   "execution_count": 32,
   "metadata": {},
   "outputs": [
    {
     "name": "stdout",
     "output_type": "stream",
     "text": [
      "5.00\n"
     ]
    }
   ],
   "source": [
    "import re\n",
    "content='price is $5.00'\n",
    "res=re.match('^p.*\\$(\\d+\\.\\d+)',content)\n",
    "print(res.group(1))"
   ]
  },
  {
   "cell_type": "code",
   "execution_count": 38,
   "metadata": {},
   "outputs": [
    {
     "name": "stdout",
     "output_type": "stream",
     "text": [
      "<_sre.SRE_Match object; span=(0, 64), match='Extra stings Hello 2134567 World_This is a Regex >\n",
      "Extra stings Hello 2134567 World_This is a Regex Demo Extra stin\n"
     ]
    }
   ],
   "source": [
    "import re\n",
    "content='Extra stings Hello 2134567 World_This is a Regex Demo Extra stin'\n",
    "res=re.search('.*',content)\n",
    "print(res)\n",
    "print(res.group())"
   ]
  },
  {
   "cell_type": "code",
   "execution_count": 43,
   "metadata": {},
   "outputs": [
    {
     "name": "stdout",
     "output_type": "stream",
     "text": [
      " 2134567\n"
     ]
    }
   ],
   "source": [
    "import re\n",
    "content='Extra stins Hello 2134567 World_This is a Regex Demo Extra stin'\n",
    "res=re.search('.\\d+',content)\n",
    "print(res.group())"
   ]
  },
  {
   "cell_type": "code",
   "execution_count": 51,
   "metadata": {
    "scrolled": true
   },
   "outputs": [
    {
     "name": "stdout",
     "output_type": "stream",
     "text": [
      "手机百度\n",
      "快人一步\n",
      "百度糯米\n",
      "我的生活\n"
     ]
    }
   ],
   "source": [
    "import re\n",
    "html='''\n",
    "</textarea></div><div id=bottom_container class=s-bottom-ctner>\n",
    "<div class=\"ftCon-Wrapper\"> <div class=qrcode-layer>\n",
    "<div class=\"qrcode-item qrcode-item-1\">\n",
    "<div class=qrcode-img></div><div class=qrcode-text>\n",
    "<p><b>手机百度</b></p ><p><span>快人一步</span></p >\n",
    "</div> </div><div class=\"qrcode-item qrcode-item-2\">\n",
    "<div class=qrcode-img></div><div class=qrcode-text>\n",
    "<p><b>百度糯米</b></p ><p><span>我的生活</span></p >\n",
    "</div> </div> </div> <div class=no-qrcode-layer>\n",
    "<div>\n",
    "<p class=lh>\n",
    "<a class=sethome href= > 设为首页 </ a></p >\n",
    "<span class=copyright-text><span>&#169;2018&nbsp;Baidu&nbsp;</span>< a href=//www.baidu.com/duty/ target=_blank>\n",
    "使用百度前必读</ a>&nbsp;\n",
    "'''\n",
    "res=re.search('<b>(\\w+).*<span>(\\w+).*<b>(\\w+).*<span>(\\w+)',html,re.S)\n",
    "print(res.group(1))\n",
    "print(res.group(2))\n",
    "print(res.group(3))\n",
    "print(res.group(4))"
   ]
  },
  {
   "cell_type": "code",
   "execution_count": 3,
   "metadata": {},
   "outputs": [
    {
     "name": "stdout",
     "output_type": "stream",
     "text": [
      "//www.baidu.com/duty/ \n"
     ]
    }
   ],
   "source": [
    "import re\n",
    "html='''\n",
    "</textarea></div><div id=bottom_container class=s-bottom-ctner>\n",
    "<div class=\"ftCon-Wrapper\"> <div class=qrcode-layer>\n",
    "<div class=\"qrcode-item qrcode-item-1\">\n",
    "<div class=qrcode-img></div><div class=qrcode-text>\n",
    "<p><b>手机百度</b></p ><p><span>快人一步</span></p >\n",
    "</div> </div><div class=\"qrcode-item qrcode-item-2\">\n",
    "<div class=qrcode-img></div><div class=qrcode-text>\n",
    "<p><b>百度糯米</b></p ><p><span>我的生活</span></p >\n",
    "</div> </div> </div> <div class=no-qrcode-layer>\n",
    "<div>\n",
    "<p class=lh>\n",
    "<a class=sethome href= > 设为首页 </ a></p >\n",
    "<span class=copyright-text><span>&#169;2018&nbsp;Baidu&nbsp;</span>< a href=//www.baidu.com/duty/ target=_blank>\n",
    "使用百度前必读</ a>&nbsp;\n",
    "'''\n",
    "res=re.search('< a href=(.*)target=_blank>',html,re.S)\n",
    "print(res.group(1))"
   ]
  },
  {
   "cell_type": "code",
   "execution_count": 13,
   "metadata": {},
   "outputs": [
    {
     "name": "stdout",
     "output_type": "stream",
     "text": [
      "['https://www.baidu.com/', 'http://tieba.baidu.com/', 'https://zhidao.baidu.com/', 'http://music.baidu.com/', 'http://image.baidu.com/', 'http://v.baidu.com/', 'http://map.baidu.com/', 'http://wenku.baidu.com/', 'http://news.baidu.com/', '//help.baidu.com', '//news.baidu.com/z/resource/pc/staticpage/advanced_news.html', '//news.baidu.com/z/resource/pc/staticpage/pianhao.html', '/', '/guonei', '/guoji', '/mil', '/finance', '/ent', '/sports', '/internet', '/tech', '/game', '/lady', '/auto', '/house', 'http://jian.news.baidu.com/', '/', '/guonei', '/guoji', '/mil', '/finance', '/ent', '/sports', '/internet', '/tech', '/game', '/lady', '/auto', '/house', 'http://jian.news.baidu.com/', 'javascript:void(0);', 'http://tv.people.com.cn/n1/2018/0611/c387922-30050266.html', 'http://www.xinhuanet.com/politics/leaders/2018-06/11/c_1122969817.htm', 'http://www.chinanews.com/gn/2018/06-11/8535043.shtml', 'http://world.gmw.cn/2018-06/11/content_29227443.htm', 'http://china.chinadaily.com.cn/2018-06/10/content_36362219.htm', 'http://politics.people.com.cn/n1/2018/0610/c1024-30048459.html', 'http://kuaibao.qq.com/s/20180611A03B3200?refer=', 'http://www.chinanews.com/gn/2018/06-11/8535035.shtml', 'http://www.chinanews.com/gn/2018/06-11/8535032.shtml', 'http://xuexi.cctv.com/2018/06/11/ARTIL1mNfbI9ssCIUR75nc8z180611.shtml', 'http://news.youth.cn/sz/201806/t20180611_11641172.htm', 'http://news.youth.cn/tbxw/201806/t20180610_11640631.htm', 'https://3w.huanqiu.com/a/a-XDI12894FBD0DE3DEF77F0?agt=8', 'https://3w.huanqiu.com/a/a-XDI1285200935D93093BDF?agt=8', 'http://news.youth.cn/gn/201806/t20180611_11640886.htm', 'http://xinwen.eastday.com/a/xjump.html?id=180611135951526', 'http://news.ifeng.com/a/20180611/58661907_0.shtml?_zbs_baidu_news', 'http://news.ifeng.com/a/20180611/58663333_0.shtml?_zbs_baidu_news', 'http://news.ifeng.com/a/20180611/58666548_0.shtml?_zbs_baidu_news', 'http://xinwen.eastday.com/a/xjump.html?id=n180611163323719', 'https://3w.huanqiu.com/a/a-XDI128C6F5A1007527D2F2?agt=8', 'https://3w.huanqiu.com/a/a-XDI12827F0F90AB6199033?agt=8', 'https://3w.huanqiu.com/a/a-XDI128D492A1BD49CA75E3?agt=8', 'http://news.ifeng.com/a/20180611/58663414_0.shtml?_zbs_baidu_news', 'http://xinwen.eastday.com/a/xjump.html?id=180611164209571', 'http://xinwen.eastday.com/a/xjump.html?id=180611141006578', 'http://xinwen.eastday.com/a/xjump.html?id=180611141340642', 'http://xinwen.eastday.com/a/xjump.html?id=180611104110343', 'http://news.ifeng.com/a/20180611/58667703_0.shtml?_zbs_baidu_news', 'http://xinwen.eastday.com/a/xjump.html?id=180611132952595', 'http://xinwen.eastday.com/a/xjump.html?id=180611111924209', 'http://news.ifeng.com/a/20180611/58664657_0.shtml?_zbs_baidu_news', 'http://news.ifeng.com/a/20180611/58667733_0.shtml?_zbs_baidu_news', 'http://news.ifeng.com/a/20180611/58667165_0.shtml?_zbs_baidu_news', 'http://news.ifeng.com/a/20180611/58664931_0.shtml?_zbs_baidu_news', 'https://3w.huanqiu.com/a/a-XDI12803DA4234434DE4DD?agt=8', 'https://3w.huanqiu.com/a/a-XDI128B2D697B3D7AA6855?agt=8', 'http://xinwen.eastday.com/a/xjump.html?id=180611092646913', 'http://news.ifeng.com/a/20180611/58673499_0.shtml?_zbs_baidu_news', 'http://xinwen.eastday.com/a/xjump.html?id=180611162911420', 'https://3w.huanqiu.com/a/a-XDI128129848B7999A4C48?agt=8', 'https://3w.huanqiu.com/a/a-XDI12819B3674398C1ECC9?agt=8', 'javascript:void(0);', 'javascript:void(0);', 'javascript:void(0);', 'javascript:void(0);', 'javascript:void(0);', 'https://www.baidu.com/s?wd=%E4%B9%A0%E8%BF%91%E5%B9%B3%E4%B8%BB%E6%8C%81%E4%B8%8A%E5%90%88%E7%BB%84%E7%BB%87%E9%9D%92%E5%B2%9B%E5%B3%B0%E4%BC%9A%E5%B9%B6%E5%8F%91%E8%A1%A8%E9%87%8D%E8%A6%81%E8%AE%B2%E8%AF%9D', 'https://www.baidu.com/s?wd=%E4%B9%A0%E8%BF%91%E5%B9%B3%EF%BC%9A%E4%B8%8A%E5%90%88%E7%BB%84%E7%BB%87%E7%9A%84%E6%98%8E%E5%A4%A9%E4%B8%80%E5%AE%9A%E4%BC%9A%E6%9B%B4%E5%8A%A0%E7%BE%8E%E5%A5%BD%EF%BC%81', 'https://www.baidu.com/s?wd=%E4%B8%8A%E6%B5%B7%E5%90%88%E4%BD%9C%E7%BB%84%E7%BB%87%E6%88%90%E5%91%98%E5%9B%BD%E5%85%83%E9%A6%96%E7%90%86%E4%BA%8B%E4%BC%9A%E9%9D%92%E5%B2%9B%E5%AE%A3%E8%A8%80', 'https://www.baidu.com/s?wd=%E4%B8%AD%E5%A4%AE%E7%8E%AF%E4%BF%9D%E7%9D%A3%E5%AF%9F%E2%80%9C%E5%9B%9E%E5%A4%B4%E7%9C%8B%E2%80%9D%E5%8D%87%E7%BA%A7', 'https://www.baidu.com/s?wd=%E5%A9%B4%E5%84%BF%E4%B8%BA%E6%88%98%E5%A3%AB%E6%92%91%E4%BC%9E', 'https://www.baidu.com/s?wd=%E7%A4%BE%E4%BF%9D%E7%BC%B4%E8%B4%B9%E5%9F%BA%E6%95%B0%E8%B0%83%E6%95%B4', 'https://www.baidu.com/s?wd=%E5%86%9B%E6%A0%A1%E6%8B%9B882%E4%BA%BA%E5%85%A8%E5%9B%BD%E6%9C%80%E5%A4%9A', 'https://www.baidu.com/s?wd=%E8%BF%99%E4%BA%9B%E7%9C%81%E4%BB%BD%E5%B7%B2%E5%85%AC%E5%B8%83%E9%AB%98%E8%80%83%E6%88%90%E7%BB%A9%E6%9F%A5%E8%AF%A2%E6%97%B6%E9%97%B4', 'https://www.baidu.com/s?wd=%E5%BC%A0%E7%BB%A7%E7%A7%91%E8%8E%B7%E7%94%B7%E5%8D%95%E4%BA%9A%E5%86%9B', 'https://www.baidu.com/s?wd=%E6%AD%BC%E5%87%BB%E6%9C%BA%E5%A5%B3%E9%A3%9E%E5%85%BB%E6%88%90%E8%AE%B0', 'http://baijiahao.baidu.com/s?id=1602963493954404485', 'http://baijiahao.baidu.com/s?id=1602963493954404485', 'http://baijiahao.baidu.com/s?id=1602883350886528624', 'http://baijiahao.baidu.com/s?id=1602883350886528624', 'http://baijiahao.baidu.com/s?id=1602949643058437801', 'http://baijiahao.baidu.com/s?id=1602949643058437801', 'https://baijia.baidu.com/s?id=1602953832753200161', '', 'https://baijia.baidu.com/s?id=1602951705810857104', '', 'https://baijia.baidu.com/s?id=1602948213149828621', '', 'https://baijia.baidu.com/s?id=1602945474561499190', '', 'https://baijia.baidu.com/s?id=1602389219479157498', '', 'https://baijia.baidu.com/s?id=1602383703655858374', '', 'https://baijia.baidu.com/s?id=1602377057767465925', '', 'https://baijia.baidu.com/s?id=1602372291058714542', '', 'https://baijia.baidu.com/s?id=1602359805257179181', '', 'https://baijia.baidu.com/s?id=1602342623196391647', '', 'http://baijiahao.baidu.com/s?id=1602927794420720574', 'http://baijiahao.baidu.com/s?id=1602927794420720574', 'javascript:void(0);', 'javascript:void(0);', 'https://baijia.baidu.com/s?id=1602948213149828621', 'https://baijia.baidu.com/u?app_id=1536766821008995', 'https://baijia.baidu.com/s?id=1602945474561499190', 'https://baijia.baidu.com/u?app_id=1536766231434959', 'https://baijia.baidu.com/s?id=1602951705810857104', 'https://baijia.baidu.com/u?app_id=1556018077895386', 'https://baijia.baidu.com/s?id=1602953832753200161', 'https://baijia.baidu.com/u?app_id=1536766231434959', 'https://baijia.baidu.com/s?id=1602937948300904316', 'https://baijia.baidu.com/u?app_id=1536766209631977', 'https://baijia.baidu.com/s?id=1602377057767465925', 'https://baijia.baidu.com/u?app_id=1536766780383735', 'https://baijia.baidu.com/s?id=1602948213149828621', 'https://baijia.baidu.com/u?app_id=1536766821008995', 'https://baijia.baidu.com/s?id=1602383703655858374', 'https://baijia.baidu.com/u?app_id=1536767494723266', 'https://baijia.baidu.com/s?id=1602359805257179181', 'https://baijia.baidu.com/u?app_id=1536766780383735', 'https://baijia.baidu.com/s?id=1602372291058714542', 'https://baijia.baidu.com/u?app_id=1536773655035111', '', '', 'http://report.12377.cn:13225/toreportinputNormal_anis.do', 'javascript:void(0);', 'javascript:void(0);', 'javascript:void(0);', 'javascript:void(0);', 'http://downpack.baidu.com/baidunews_AndroidPhone_1014720b.apk', 'https://itunes.apple.com/cn/app/id482820737', 'http://newsalert.baidu.com/na?cmd=0', '//news.baidu.com/z/resource/pc/staticpage/newscode.html', 'https://news.baidu.com/z/resource/wap/protocol/baidu_news_protocol.html', 'https://www.baidu.com/duty/wise/wise_secretright.html', '//help.baidu.com/newadd?prod_id=5&category=1', '//news.baidu.com/licence.html', '#{url}', '#{url}', 'javascript:void(0);', '/sh', '#{url}', '/sh', '#{url}', '#{url}', '#{url}', '#{url}', '#{url}', '#{url}', '#{url}', '#{url}', '#{url}']\n"
     ]
    }
   ],
   "source": [
    "import requests\n",
    "a=requests.get('http://news.baidu.com/')\n",
    "import re\n",
    "content=a.text\n",
    "result=re.findall('<a href=\"(.*?)\"',content,re.S)\n",
    "print(result)"
   ]
  },
  {
   "cell_type": "code",
   "execution_count": null,
   "metadata": {},
   "outputs": [],
   "source": []
  }
 ],
 "metadata": {
  "kernelspec": {
   "display_name": "Python 3",
   "language": "python",
   "name": "python3"
  },
  "language_info": {
   "codemirror_mode": {
    "name": "ipython",
    "version": 3
   },
   "file_extension": ".py",
   "mimetype": "text/x-python",
   "name": "python",
   "nbconvert_exporter": "python",
   "pygments_lexer": "ipython3",
   "version": "3.6.4"
  }
 },
 "nbformat": 4,
 "nbformat_minor": 2
}
